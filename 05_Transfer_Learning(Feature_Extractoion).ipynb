{
  "nbformat": 4,
  "nbformat_minor": 0,
  "metadata": {
    "colab": {
      "provenance": [],
      "gpuType": "T4",
      "authorship_tag": "ABX9TyMww5ri0ow8uqfwrM+NK8Gc",
      "include_colab_link": true
    },
    "kernelspec": {
      "name": "python3",
      "display_name": "Python 3"
    },
    "language_info": {
      "name": "python"
    },
    "accelerator": "GPU",
    "gpuClass": "standard"
  },
  "cells": [
    {
      "cell_type": "markdown",
      "metadata": {
        "id": "view-in-github",
        "colab_type": "text"
      },
      "source": [
        "<a href=\"https://colab.research.google.com/github/varunk04/computer_vision/blob/main/05_Transfer_Learning(Feature_Extractoion).ipynb\" target=\"_parent\"><img src=\"https://colab.research.google.com/assets/colab-badge.svg\" alt=\"Open In Colab\"/></a>"
      ]
    },
    {
      "cell_type": "markdown",
      "source": [
        "# Transfer Learning with Tensorflow Part 1: Feature Extraction\n",
        "\n",
        "Transfer learning is leveraging a working models existing architecture and learned patterns for own problems\n",
        "\n",
        "There are two main benefits :\n",
        "\n",
        "1. Can leverage an existing Neural network architecture proven to work on problems similar to our own.\n",
        "2. Can leverage a working neural network architecture which has already learned patterns on similar data to our own, then we can adapt those patterns to own data."
      ],
      "metadata": {
        "id": "wSUa-0wYreP4"
      }
    },
    {
      "cell_type": "code",
      "source": [
        "# are we using the GPU?\n",
        "!nvidia-smi"
      ],
      "metadata": {
        "colab": {
          "base_uri": "https://localhost:8080/"
        },
        "id": "n2Far3HCtGtG",
        "outputId": "e477126b-39c0-4436-d58a-357358ceb613"
      },
      "execution_count": 1,
      "outputs": [
        {
          "output_type": "stream",
          "name": "stdout",
          "text": [
            "Mon May 22 13:46:20 2023       \n",
            "+-----------------------------------------------------------------------------+\n",
            "| NVIDIA-SMI 525.85.12    Driver Version: 525.85.12    CUDA Version: 12.0     |\n",
            "|-------------------------------+----------------------+----------------------+\n",
            "| GPU  Name        Persistence-M| Bus-Id        Disp.A | Volatile Uncorr. ECC |\n",
            "| Fan  Temp  Perf  Pwr:Usage/Cap|         Memory-Usage | GPU-Util  Compute M. |\n",
            "|                               |                      |               MIG M. |\n",
            "|===============================+======================+======================|\n",
            "|   0  Tesla T4            Off  | 00000000:00:04.0 Off |                    0 |\n",
            "| N/A   59C    P8    10W /  70W |      0MiB / 15360MiB |      0%      Default |\n",
            "|                               |                      |                  N/A |\n",
            "+-------------------------------+----------------------+----------------------+\n",
            "                                                                               \n",
            "+-----------------------------------------------------------------------------+\n",
            "| Processes:                                                                  |\n",
            "|  GPU   GI   CI        PID   Type   Process name                  GPU Memory |\n",
            "|        ID   ID                                                   Usage      |\n",
            "|=============================================================================|\n",
            "|  No running processes found                                                 |\n",
            "+-----------------------------------------------------------------------------+\n"
          ]
        }
      ]
    },
    {
      "cell_type": "markdown",
      "source": [
        "## Downloading the data:"
      ],
      "metadata": {
        "id": "kby_-adCtcBT"
      }
    },
    {
      "cell_type": "code",
      "source": [
        "# Get data (10% of 10 food classes from Food101 dataset):\n",
        "\n",
        "import zipfile\n",
        "\n",
        "# Download the data:\n",
        "\n",
        "!wget https://storage.googleapis.com/ztm_tf_course/food_vision/10_food_classes_10_percent.zip\n",
        "\n",
        "# unzip the downloaded file:\n",
        "zip_ref = zipfile.ZipFile('10_food_classes_10_percent.zip')\n",
        "zip_ref.extractall()\n",
        "zip_ref.close()"
      ],
      "metadata": {
        "colab": {
          "base_uri": "https://localhost:8080/"
        },
        "id": "FcVBXRlttny2",
        "outputId": "635a1423-d45a-45b9-9ead-cab1967b0188"
      },
      "execution_count": 2,
      "outputs": [
        {
          "output_type": "stream",
          "name": "stdout",
          "text": [
            "--2023-05-22 13:50:05--  https://storage.googleapis.com/ztm_tf_course/food_vision/10_food_classes_10_percent.zip\n",
            "Resolving storage.googleapis.com (storage.googleapis.com)... 173.194.69.128, 173.194.79.128, 108.177.119.128, ...\n",
            "Connecting to storage.googleapis.com (storage.googleapis.com)|173.194.69.128|:443... connected.\n",
            "HTTP request sent, awaiting response... 200 OK\n",
            "Length: 168546183 (161M) [application/zip]\n",
            "Saving to: ‘10_food_classes_10_percent.zip’\n",
            "\n",
            "10_food_classes_10_ 100%[===================>] 160.74M  41.5MB/s    in 4.6s    \n",
            "\n",
            "2023-05-22 13:50:09 (35.1 MB/s) - ‘10_food_classes_10_percent.zip’ saved [168546183/168546183]\n",
            "\n"
          ]
        }
      ]
    },
    {
      "cell_type": "code",
      "source": [
        "# How many images in each folder:\n",
        "\n",
        "import os\n",
        "\n",
        "# Walk through the directory:\n",
        "\n",
        "for dirpath, dirnames ,filenames in os.walk('10_food_classes_10_percent'):\n",
        "  print(f\"There are {len(dirnames)} directories and {len(filenames)} images in '{dirpath}\")"
      ],
      "metadata": {
        "colab": {
          "base_uri": "https://localhost:8080/"
        },
        "id": "zo26q12iui9P",
        "outputId": "bf7080e8-0950-4435-cb18-1f33d096d1b1"
      },
      "execution_count": 4,
      "outputs": [
        {
          "output_type": "stream",
          "name": "stdout",
          "text": [
            "There are 2 directories and 0 images in '10_food_classes_10_percent\n",
            "There are 10 directories and 0 images in '10_food_classes_10_percent/test\n",
            "There are 0 directories and 250 images in '10_food_classes_10_percent/test/steak\n",
            "There are 0 directories and 250 images in '10_food_classes_10_percent/test/ramen\n",
            "There are 0 directories and 250 images in '10_food_classes_10_percent/test/sushi\n",
            "There are 0 directories and 250 images in '10_food_classes_10_percent/test/hamburger\n",
            "There are 0 directories and 250 images in '10_food_classes_10_percent/test/pizza\n",
            "There are 0 directories and 250 images in '10_food_classes_10_percent/test/chicken_wings\n",
            "There are 0 directories and 250 images in '10_food_classes_10_percent/test/fried_rice\n",
            "There are 0 directories and 250 images in '10_food_classes_10_percent/test/chicken_curry\n",
            "There are 0 directories and 250 images in '10_food_classes_10_percent/test/grilled_salmon\n",
            "There are 0 directories and 250 images in '10_food_classes_10_percent/test/ice_cream\n",
            "There are 10 directories and 0 images in '10_food_classes_10_percent/train\n",
            "There are 0 directories and 75 images in '10_food_classes_10_percent/train/steak\n",
            "There are 0 directories and 75 images in '10_food_classes_10_percent/train/ramen\n",
            "There are 0 directories and 75 images in '10_food_classes_10_percent/train/sushi\n",
            "There are 0 directories and 75 images in '10_food_classes_10_percent/train/hamburger\n",
            "There are 0 directories and 75 images in '10_food_classes_10_percent/train/pizza\n",
            "There are 0 directories and 75 images in '10_food_classes_10_percent/train/chicken_wings\n",
            "There are 0 directories and 75 images in '10_food_classes_10_percent/train/fried_rice\n",
            "There are 0 directories and 75 images in '10_food_classes_10_percent/train/chicken_curry\n",
            "There are 0 directories and 75 images in '10_food_classes_10_percent/train/grilled_salmon\n",
            "There are 0 directories and 75 images in '10_food_classes_10_percent/train/ice_cream\n"
          ]
        }
      ]
    },
    {
      "cell_type": "markdown",
      "source": [
        "## Create data loaders (preparing data):\n",
        "\n",
        "We will use ImageDataGenerator class to load in our images in batches."
      ],
      "metadata": {
        "id": "3f1BvHvcvCMw"
      }
    },
    {
      "cell_type": "code",
      "source": [
        "import tensorflow as tf"
      ],
      "metadata": {
        "id": "2Gm3dQXa5H3k"
      },
      "execution_count": 7,
      "outputs": []
    },
    {
      "cell_type": "code",
      "source": [
        "# Setup the data:\n",
        "\n",
        "from tensorflow.keras.preprocessing.image import ImageDataGenerator\n",
        "\n",
        "Image_shape = (224,224)\n",
        "Batch_size = 32\n",
        "\n",
        "train_dir = '10_food_classes_10_percent/train/'\n",
        "test_dir = '10_food_classes_10_percent/test/'\n",
        "\n",
        "train_datagen = ImageDataGenerator(rescale = 1/255.)\n",
        "test_datagen = ImageDataGenerator(rescale = 1/255.)\n",
        "\n",
        "print('Training images:')\n",
        "train_data_10 = train_datagen.flow_from_directory(train_dir,\n",
        "                                                  target_size = Image_shape,\n",
        "                                                  batch_size = Batch_size,\n",
        "                                                  class_mode = 'categorical'\n",
        "                                                  )\n",
        "test_data_10 = train_datagen.flow_from_directory(test_dir,\n",
        "                                                  target_size = Image_shape,\n",
        "                                                  batch_size = Batch_size,\n",
        "                                                  class_mode = 'categorical'\n",
        "                                                  )"
      ],
      "metadata": {
        "colab": {
          "base_uri": "https://localhost:8080/"
        },
        "id": "oyBJO44TvqAT",
        "outputId": "cba501a9-5942-4420-cc32-024ee1fcb7f3"
      },
      "execution_count": 5,
      "outputs": [
        {
          "output_type": "stream",
          "name": "stdout",
          "text": [
            "Training images:\n",
            "Found 750 images belonging to 10 classes.\n",
            "Found 2500 images belonging to 10 classes.\n"
          ]
        }
      ]
    },
    {
      "cell_type": "markdown",
      "source": [
        "## Setting up the callbacks (Thinghs to run whilst our model trains):\n",
        "\n",
        "callbacks are extra functinality you can add to your models to be performed during or after training. Some of the commonly used callbacks are :\n",
        "\n",
        "* Tracking experiments with the Tensorflow callback\n",
        "* Model checkpoint with the ModelCheckpoint callback\n",
        "* Stopping a model from training (before it trains too long and overfits) with EarlyStopping callback."
      ],
      "metadata": {
        "id": "RBycEabIwuzt"
      }
    },
    {
      "cell_type": "code",
      "source": [
        "# Create a tensorboard callback function:\n",
        "import datetime\n",
        "\n",
        "def tensorboard_callback(dir_name, experiment_name):\n",
        "  log_dir = dir_name + '/' + experiment_name + '/' + datetime.datetime.now().strftime('%Y%m%d-%H%M%S%')\n",
        "  tensorboard_call = tf.keras.callbacks.TensorBoard(log_dir = log_dir)\n",
        "  print(f'Saving tensorboard log files to: {log_dir}')\n",
        "  return tensorboard_call"
      ],
      "metadata": {
        "id": "ayztcA552ect"
      },
      "execution_count": 9,
      "outputs": []
    },
    {
      "cell_type": "markdown",
      "source": [
        "## Creating models using Tensorflow hub:"
      ],
      "metadata": {
        "id": "l4RueLAD5EJg"
      }
    },
    {
      "cell_type": "code",
      "source": [
        "# Lets compare following 2 models:\n",
        "\n",
        "resnet_url = 'https://tfhub.dev/google/imagenet/resnet_v2_50/feature_vector/5'\n",
        "\n",
        "efficient_net_url = 'https://tfhub.dev/tensorflow/efficientnet/b0/feature-vector/1'"
      ],
      "metadata": {
        "id": "8agCcSmK7T1y"
      },
      "execution_count": 10,
      "outputs": []
    },
    {
      "cell_type": "code",
      "source": [
        "# Import dependencies:\n",
        "\n",
        "import tensorflow as tf\n",
        "import tensorflow_hub as hub\n",
        "from tensorflow.keras import layers"
      ],
      "metadata": {
        "id": "ITme0Q-MMAAB"
      },
      "execution_count": 11,
      "outputs": []
    },
    {
      "cell_type": "code",
      "source": [
        "# Lets make a fucntion to create a model form a URL:\n",
        "def create_model(model_url, num_classes = 10):\n",
        "  '''\n",
        "  Takes a Tensorflow Hub URL and creates a keras Sequential model with it\n",
        "  '''\n",
        "  # Download the pretained model:\n",
        "  feature_extractor_layer = hub.KerasLayer(model_url,\n",
        "                                           trainable = False,\n",
        "                                           name = 'feature_extraction_layer',\n",
        "                                           input_shape = Image_shape+(3,))\n",
        "  #create our own model:\n",
        "  model = tf.keras.Sequential([\n",
        "      feature_extractor_layer,\n",
        "      layers.Dense(num_classes, activation = 'softmax', name = 'output_layer')\n",
        "  ])\n",
        "\n",
        "  return model"
      ],
      "metadata": {
        "id": "ENFGelL6M-UI"
      },
      "execution_count": 13,
      "outputs": []
    },
    {
      "cell_type": "markdown",
      "source": [
        "### Creating  and testing ResNet model:"
      ],
      "metadata": {
        "id": "a4BSJSD8OpV3"
      }
    },
    {
      "cell_type": "code",
      "source": [
        "# Create the resnet:\n",
        "\n",
        "resnet_model = create_model(resnet_url,\n",
        "                            num_classes=train_data_10.num_classes)"
      ],
      "metadata": {
        "id": "xN6oKdSFOz7N"
      },
      "execution_count": 14,
      "outputs": []
    },
    {
      "cell_type": "code",
      "source": [
        "resnet_model.summary()"
      ],
      "metadata": {
        "colab": {
          "base_uri": "https://localhost:8080/"
        },
        "id": "Ok4Pl0lIPOjF",
        "outputId": "4241af67-afdb-420f-df50-e3271e174180"
      },
      "execution_count": 15,
      "outputs": [
        {
          "output_type": "stream",
          "name": "stdout",
          "text": [
            "Model: \"sequential\"\n",
            "_________________________________________________________________\n",
            " Layer (type)                Output Shape              Param #   \n",
            "=================================================================\n",
            " feature_extraction_layer (K  (None, 2048)             23564800  \n",
            " erasLayer)                                                      \n",
            "                                                                 \n",
            " output_layer (Dense)        (None, 10)                20490     \n",
            "                                                                 \n",
            "=================================================================\n",
            "Total params: 23,585,290\n",
            "Trainable params: 20,490\n",
            "Non-trainable params: 23,564,800\n",
            "_________________________________________________________________\n"
          ]
        }
      ]
    },
    {
      "cell_type": "code",
      "source": [
        "# Compile our resnet model:\n",
        "\n",
        "resnet_model.compile(\n",
        "    loss = 'categorical_crossentropy',\n",
        "    optimizer = tf.keras.optimizers.Adam(),\n",
        "    metrics = ['accuracy']\n",
        ")"
      ],
      "metadata": {
        "id": "7fkC4xXVPXRN"
      },
      "execution_count": 16,
      "outputs": []
    },
    {
      "cell_type": "code",
      "source": [
        "# Fitting resnet model:\n",
        "\n",
        "restnet_history = resnet_model.fit(train_data_10,\n",
        "                                   epochs = 5,\n",
        "                                   steps_per_epoch = len(train_data_10),\n",
        "                                   validation_data = test_data_10,\n",
        "                                   validation_steps =len(test_data_10),\n",
        "                                   callbacks = [tensorboard_callback(dir_name = 'tensorflow_hub',\n",
        "                                                                     experiment_name = 'ResNet50')\n",
        "                                                                     ])"
      ],
      "metadata": {
        "colab": {
          "base_uri": "https://localhost:8080/"
        },
        "id": "ggD_Yw4oPpGT",
        "outputId": "6b2584fb-83bf-4c53-8fef-e198c3e95879"
      },
      "execution_count": 18,
      "outputs": [
        {
          "output_type": "stream",
          "name": "stdout",
          "text": [
            "Saving tensorboard log files to: tensorflow_hub/ResNet50/20230522-162127%\n",
            "Epoch 1/5\n",
            "24/24 [==============================] - 35s 891ms/step - loss: 1.9856 - accuracy: 0.3600 - val_loss: 1.2634 - val_accuracy: 0.6088\n",
            "Epoch 2/5\n",
            "24/24 [==============================] - 18s 790ms/step - loss: 0.9172 - accuracy: 0.7507 - val_loss: 0.8676 - val_accuracy: 0.7320\n",
            "Epoch 3/5\n",
            "24/24 [==============================] - 18s 771ms/step - loss: 0.6224 - accuracy: 0.8307 - val_loss: 0.7548 - val_accuracy: 0.7676\n",
            "Epoch 4/5\n",
            "24/24 [==============================] - 19s 803ms/step - loss: 0.4845 - accuracy: 0.8707 - val_loss: 0.7139 - val_accuracy: 0.7776\n",
            "Epoch 5/5\n",
            "24/24 [==============================] - 18s 783ms/step - loss: 0.3797 - accuracy: 0.9227 - val_loss: 0.6823 - val_accuracy: 0.7796\n"
          ]
        }
      ]
    },
    {
      "cell_type": "markdown",
      "source": [
        "* With just few lines of code and with just 10 % data we were able to get an validation accurcay nearing to 80%.\n",
        "\n",
        "* Thats the power of feature extraction tranfer learning.\n"
      ],
      "metadata": {
        "id": "oe0svQ4lQ69a"
      }
    },
    {
      "cell_type": "code",
      "source": [
        "import matplotlib.pyplot as plt"
      ],
      "metadata": {
        "id": "Dn0NjbrpSuX3"
      },
      "execution_count": 19,
      "outputs": []
    },
    {
      "cell_type": "code",
      "source": [
        "def loss_curve(history):\n",
        "  \"\"\"\n",
        "  Return the training and testing/validation loss\n",
        "\n",
        "  Args :\n",
        "  history : Tensorflow history object\n",
        "\n",
        "  returns:\n",
        "  plots of training /validation loss and accuracy metrics.\n",
        "  \"\"\"\n",
        "  loss = history.history['loss']\n",
        "  val_loss = history.history['val_loss']\n",
        "\n",
        "  accuracy = history.history['accuracy']\n",
        "  val_accuracy = history.history['val_accuracy']\n",
        "\n",
        "  epochs = range(len(history.history['loss']))\n",
        "\n",
        "  # Plot loss:\n",
        "  plt.plot(epochs, loss, label = 'training_loss')\n",
        "  plt.plot(epochs, val_loss, label = 'val_loss')\n",
        "  plt.title('Loss')\n",
        "  plt.xlabel('Epochs')\n",
        "  plt.legend()\n",
        "\n",
        "  #plot accuracy:\n",
        "  plt.figure()\n",
        "  plt.plot(epochs, accuracy, label = 'Training_accuracy')\n",
        "  plt.plot(epochs, val_accuracy, label = 'validation_accuracy')\n",
        "  plt.title(\"Accuracy\")\n",
        "  plt.xlabel('Epochs')\n",
        "  plt.legend();"
      ],
      "metadata": {
        "id": "LaVzkJAaSSTd"
      },
      "execution_count": 20,
      "outputs": []
    },
    {
      "cell_type": "code",
      "source": [
        "loss_curve(restnet_history)"
      ],
      "metadata": {
        "colab": {
          "base_uri": "https://localhost:8080/",
          "height": 927
        },
        "id": "DeHCXVY1UqUY",
        "outputId": "001db7b9-2da2-4241-c881-8015a20ef853"
      },
      "execution_count": 21,
      "outputs": [
        {
          "output_type": "display_data",
          "data": {
            "text/plain": [
              "<Figure size 640x480 with 1 Axes>"
            ],
            "image/png": "[encoded data removed]"
          },
          "metadata": {}
        },
        {
          "output_type": "display_data",
          "data": {
            "text/plain": [
              "<Figure size 640x480 with 1 Axes>"
            ],
            "image/png": "[encoded data removed]"
          },
          "metadata": {}
        }
      ]
    },
    {
      "cell_type": "markdown",
      "source": [
        "### Creating an testing EfficentNetB0 model:"
      ],
      "metadata": {
        "id": "PSxkz7lKUxTu"
      }
    },
    {
      "cell_type": "code",
      "source": [
        "# Creating the efficient model:\n",
        "\n",
        "efficient_model = create_model(efficient_net_url,\n",
        "                               num_classes = train_data_10.num_classes)"
      ],
      "metadata": {
        "id": "onKS5sGDVHgl"
      },
      "execution_count": 22,
      "outputs": []
    },
    {
      "cell_type": "code",
      "source": [
        "# Compile the model:\n",
        "efficient_model.compile(\n",
        "    loss = 'categorical_crossentropy',\n",
        "    optimizer = tf.keras.optimizers.Adam(),\n",
        "    metrics = ['accuracy']\n",
        ")"
      ],
      "metadata": {
        "id": "qBiDJjelVnbw"
      },
      "execution_count": 23,
      "outputs": []
    },
    {
      "cell_type": "code",
      "source": [
        "# Fit the model:\n",
        "\n",
        "efficient_model_history = efficient_model.fit(train_data_10,\n",
        "                                              epochs = 5,\n",
        "                                              steps_per_epoch = len(train_data_10),\n",
        "                                              validation_data = test_data_10,\n",
        "                                              validation_steps = len(test_data_10),\n",
        "                                              callbacks = [tensorboard_callback(dir_name='tensorflow_hub',\n",
        "                                                                                experiment_name = 'EfficientNetB0')])"
      ],
      "metadata": {
        "colab": {
          "base_uri": "https://localhost:8080/"
        },
        "id": "Fg6cWd10WBeo",
        "outputId": "ef20d69e-d042-42cd-a9ac-0786be7d0654"
      },
      "execution_count": 24,
      "outputs": [
        {
          "output_type": "stream",
          "name": "stdout",
          "text": [
            "Saving tensorboard log files to: tensorflow_hub/EfficientNetB0/20230522-164801%\n",
            "Epoch 1/5\n",
            "24/24 [==============================] - 33s 919ms/step - loss: 1.8832 - accuracy: 0.4240 - val_loss: 1.3098 - val_accuracy: 0.7384\n",
            "Epoch 2/5\n",
            "24/24 [==============================] - 18s 781ms/step - loss: 1.0780 - accuracy: 0.7773 - val_loss: 0.8692 - val_accuracy: 0.8244\n",
            "Epoch 3/5\n",
            "24/24 [==============================] - 17s 738ms/step - loss: 0.7627 - accuracy: 0.8333 - val_loss: 0.6983 - val_accuracy: 0.8412\n",
            "Epoch 4/5\n",
            "24/24 [==============================] - 17s 736ms/step - loss: 0.6126 - accuracy: 0.8600 - val_loss: 0.6124 - val_accuracy: 0.8520\n",
            "Epoch 5/5\n",
            "24/24 [==============================] - 18s 776ms/step - loss: 0.5177 - accuracy: 0.8800 - val_loss: 0.5620 - val_accuracy: 0.8592\n"
          ]
        }
      ]
    },
    {
      "cell_type": "code",
      "source": [
        "# Lets plot the loss_curves :\n",
        "\n",
        "loss_curve(efficient_model_history)"
      ],
      "metadata": {
        "colab": {
          "base_uri": "https://localhost:8080/",
          "height": 927
        },
        "id": "3JWkdgtwXFLA",
        "outputId": "503f9347-0f43-48f7-ec4a-22870c5a34c2"
      },
      "execution_count": 25,
      "outputs": [
        {
          "output_type": "display_data",
          "data": {
            "text/plain": [
              "<Figure size 640x480 with 1 Axes>"
            ],
            "image/png": "[encoded data removed]"
          },
          "metadata": {}
        },
        {
          "output_type": "display_data",
          "data": {
            "text/plain": [
              "<Figure size 640x480 with 1 Axes>"
            ],
            "image/png": "[encoded data removed]"
          },
          "metadata": {}
        }
      ]
    },
    {
      "cell_type": "code",
      "source": [
        "efficient_model.summary()"
      ],
      "metadata": {
        "colab": {
          "base_uri": "https://localhost:8080/"
        },
        "id": "P4raDr5rZ3dP",
        "outputId": "b6d0c1f6-4fc3-4cf1-e9f0-f90986d4906c"
      },
      "execution_count": 26,
      "outputs": [
        {
          "output_type": "stream",
          "name": "stdout",
          "text": [
            "Model: \"sequential_1\"\n",
            "_________________________________________________________________\n",
            " Layer (type)                Output Shape              Param #   \n",
            "=================================================================\n",
            " feature_extraction_layer (K  (None, 1280)             4049564   \n",
            " erasLayer)                                                      \n",
            "                                                                 \n",
            " output_layer (Dense)        (None, 10)                12810     \n",
            "                                                                 \n",
            "=================================================================\n",
            "Total params: 4,062,374\n",
            "Trainable params: 12,810\n",
            "Non-trainable params: 4,049,564\n",
            "_________________________________________________________________\n"
          ]
        }
      ]
    },
    {
      "cell_type": "code",
      "source": [
        "resnet_model.summary()"
      ],
      "metadata": {
        "colab": {
          "base_uri": "https://localhost:8080/"
        },
        "id": "sq7XVmo-Z-K9",
        "outputId": "5179eb5e-f5ac-4acd-fddc-eb87f0d5a11b"
      },
      "execution_count": 27,
      "outputs": [
        {
          "output_type": "stream",
          "name": "stdout",
          "text": [
            "Model: \"sequential\"\n",
            "_________________________________________________________________\n",
            " Layer (type)                Output Shape              Param #   \n",
            "=================================================================\n",
            " feature_extraction_layer (K  (None, 2048)             23564800  \n",
            " erasLayer)                                                      \n",
            "                                                                 \n",
            " output_layer (Dense)        (None, 10)                20490     \n",
            "                                                                 \n",
            "=================================================================\n",
            "Total params: 23,585,290\n",
            "Trainable params: 20,490\n",
            "Non-trainable params: 23,564,800\n",
            "_________________________________________________________________\n"
          ]
        }
      ]
    },
    {
      "cell_type": "markdown",
      "source": [
        "Comparing ResNet and EfficientNetB0, \n",
        "\n",
        "* EfficientNetB0 is having very good accuracy compared to ResNet.\n",
        "* Also loss_curves show that EfficientNet is not so overfitting and loss and accuracy trend in the training and validation."
      ],
      "metadata": {
        "id": "SFHyT62uZLL1"
      }
    },
    {
      "cell_type": "markdown",
      "source": [
        "## Comparing our models results using Tensorboard:"
      ],
      "metadata": {
        "id": "2z3NEjXzZnPc"
      }
    },
    {
      "cell_type": "code",
      "source": [
        "# Upload Tensorboard dev records\n",
        "!tensorboard dev upload --logdir ./tensorflow_hub/ \\\n",
        "  --name 'EfficientNetB0 vs ResNet50V2'\\\n",
        "  --description 'Comparing two different Tfhub feature Extraction model using only 10% of data'\\\n",
        "  --one_shot"
      ],
      "metadata": {
        "colab": {
          "base_uri": "https://localhost:8080/"
        },
        "id": "pUuRKNgLcWOK",
        "outputId": "b1d2e200-4922-4836-d329-6846efab6a45"
      },
      "execution_count": 28,
      "outputs": [
        {
          "output_type": "stream",
          "name": "stdout",
          "text": [
            "2023-05-22 17:21:17.292525: W tensorflow/compiler/tf2tensorrt/utils/py_utils.cc:38] TF-TRT Warning: Could not find TensorRT\n",
            "\n",
            "***** TensorBoard Uploader *****\n",
            "\n",
            "This will upload your TensorBoard logs to https://tensorboard.dev/ from\n",
            "the following directory:\n",
            "\n",
            "./tensorflow_hub/\n",
            "\n",
            "This TensorBoard will be visible to everyone. Do not upload sensitive\n",
            "data.\n",
            "\n",
            "Your use of this service is subject to Google's Terms of Service\n",
            "<https://policies.google.com/terms> and Privacy Policy\n",
            "<https://policies.google.com/privacy>, and TensorBoard.dev's Terms of Service\n",
            "<https://tensorboard.dev/policy/terms/>.\n",
            "\n",
            "This notice will not be shown again while you are logged into the uploader.\n",
            "To log out, run `tensorboard dev auth revoke`.\n",
            "\n",
            "Continue? (yes/NO) yes\n",
            "\n",
            "To sign in with the TensorBoard uploader:\n",
            "\n",
            "1. On your computer or phone, visit:\n",
            "\n",
            "   https://www.google.com/device\n",
            "\n",
            "2. Sign in with your Google account, then enter:\n",
            "\n",
            "   JPDR-HFMQ\n",
            "\n",
            "\n",
            "\n",
            "New experiment created. View your TensorBoard at: https://tensorboard.dev/experiment/Ki1uNYNjR9Kt3DTVENirLg/\n",
            "\n",
            "\u001b[1m[2023-05-22T17:22:13]\u001b[0m Started scanning logdir.\n",
            "\u001b[1m[2023-05-22T17:22:17]\u001b[0m Total uploaded: 60 scalars, 0 tensors, 2 binary objects (5.5 MB)\n",
            "\u001b[1m[2023-05-22T17:22:17]\u001b[0m Done scanning logdir.\n",
            "\n",
            "\n",
            "Done. View your TensorBoard at https://tensorboard.dev/experiment/Ki1uNYNjR9Kt3DTVENirLg/\n"
          ]
        }
      ]
    },
    {
      "cell_type": "markdown",
      "source": [
        "Our Tensorboard experiments are uploaded publically here :\n",
        "https://tensorboard.dev/experiment/Ki1uNYNjR9Kt3DTVENirLg/"
      ],
      "metadata": {
        "id": "Ts4dox2wer0N"
      }
    },
    {
      "cell_type": "code",
      "source": [
        "!tensorboard dev list"
      ],
      "metadata": {
        "colab": {
          "base_uri": "https://localhost:8080/"
        },
        "id": "knVglMMgfHUL",
        "outputId": "62ec3db8-6c07-4b71-d996-aa3fbc8f342f"
      },
      "execution_count": 29,
      "outputs": [
        {
          "output_type": "stream",
          "name": "stdout",
          "text": [
            "2023-05-22 17:28:40.481663: W tensorflow/compiler/tf2tensorrt/utils/py_utils.cc:38] TF-TRT Warning: Could not find TensorRT\n",
            "https://tensorboard.dev/experiment/Ki1uNYNjR9Kt3DTVENirLg/\n",
            "\tName                 EfficientNetB0 vs ResNet50V2\n",
            "\tDescription          Comparing two different Tfhub feature Extraction model using only 10% of data\n",
            "\tId                   Ki1uNYNjR9Kt3DTVENirLg\n",
            "\tCreated              2023-05-22 17:22:13 (6 minutes ago)\n",
            "\tUpdated              2023-05-22 17:22:17 (6 minutes ago)\n",
            "\tRuns                 4\n",
            "\tTags                 5\n",
            "\tScalars              60\n",
            "\tTensor bytes         0\n",
            "\tBinary object bytes  5811169\n",
            "Total: 1 experiment(s)\n"
          ]
        }
      ]
    },
    {
      "cell_type": "markdown",
      "source": [
        "This will list all the experiments"
      ],
      "metadata": {
        "id": "L_RWNvNcgYCo"
      }
    },
    {
      "cell_type": "code",
      "source": [],
      "metadata": {
        "id": "G2lKHihoghZ7"
      },
      "execution_count": null,
      "outputs": []
    }
  ]
}